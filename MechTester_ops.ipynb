{
 "cells": [
  {
   "cell_type": "code",
   "id": "initial_id",
   "metadata": {
    "collapsed": true,
    "ExecuteTime": {
     "end_time": "2025-07-29T00:43:29.731535Z",
     "start_time": "2025-07-29T00:43:29.617186Z"
    }
   },
   "source": [
    "from datetime import datetime\n",
    "\n",
    "import csv\n",
    "from datetime import datetime\n",
    "import json\n",
    "import pymongo\n",
    "import serial\n",
    "import time\n",
    "\n",
    "class dbComm:\n",
    "    def __init__(self, host=\"192.168.50.41\", port=27017, db_name='mt'):\n",
    "        self.client = pymongo.MongoClient(host, port)\n",
    "        self.db = self.client[db_name]\n",
    "        self.dbSessColl = self.db['mt_sess']\n",
    "        self.datColl = self.db['lt_dat']\n",
    "        self.ltParamColl = self.db['lt_params']\n",
    "        # Create document for session data\n",
    "        self.sessHead = {\n",
    "            'ts': time.time(),\n",
    "            'data_recs': [],\n",
    "        }\n",
    "        self.sessRecID = self.dbSessColl.insert_one(self.sessHead).inserted_id\n",
    "        print(f'Session record created at: {self.sessRecID}')\n",
    "\n"
   ],
   "outputs": [],
   "execution_count": 11
  },
  {
   "metadata": {
    "ExecuteTime": {
     "end_time": "2025-07-29T00:43:30.620734Z",
     "start_time": "2025-07-29T00:43:30.609369Z"
    }
   },
   "cell_type": "code",
   "source": [
    "class mechController:\n",
    "    def __init__(self, serial_port='COM6', baud_rate=115200):\n",
    "        self.ser = serial.Serial(serial_port, baud_rate)\n",
    "        self.log_file = \"command_log.json\"\n",
    "        self.dbSess = dbComm()\n",
    "        self.commands_log = []\n",
    "        self.dt_jog = .05\n",
    "        self.lcCal = -2940 / 4194304\n",
    "        self.lcVals = []\n",
    "        self.lcTimes = []\n",
    "        self.lcVal = 0\n",
    "        self.lcTime = time.time()\n",
    "        self.ltCycles = 1\n",
    "        #time.sleep(1)\n",
    "\n",
    "    def send_command(self, command):\n",
    "        self.ser.write(command.encode())\n",
    "        time.sleep(0.2)\n",
    "        confirmation = self.ser.readline().decode().strip()\n",
    "        retList = self.parse_command(confirmation)\n",
    "        self.log_command(command, confirmation)\n",
    "        return retList\n",
    "\n",
    "    def parse_command(self, message):\n",
    "        # Remove the leading and trailing characters ('<<' and '>>')\n",
    "        #cleaned_string = message.strip(\"<<>>\")\n",
    "        cleaned_string = message.split(\"<<\")[1]\n",
    "        cleaned_string = cleaned_string.split(\">>\")[0]\n",
    "        # Split the cleaned string by '><' to separate id and value\n",
    "        id_value_list = cleaned_string.split(\"><\")\n",
    "\n",
    "        # Return the list in the desired format\n",
    "        return id_value_list\n",
    "    #def response_handler(self, retList):\n",
    "\n",
    "\n",
    "    def log_command(self, command, confirmation):\n",
    "        timestamp = datetime.now().strftime('%Y-%m-%d %H:%M:%S')\n",
    "        log_entry = {\"timestamp\": timestamp, \"command\": command, \"confirmation\": confirmation}\n",
    "        self.commands_log.append(log_entry)\n",
    "        with open(self.log_file, 'w') as file:\n",
    "            json.dump(self.commands_log, file, indent=4)\n",
    "\n",
    "    def set_motor(self, motor, load_direction, speed):\n",
    "        speed = round(speed / 100 * 255)\n",
    "        command = f\"M{motor}{load_direction}{speed}\\n\"\n",
    "        self.send_command(command)\n",
    "        time.sleep(self.dt_jog)\n",
    "        self.send_command(f\"MAS0\\n\")\n",
    "\n",
    "    def read_scale(self):\n",
    "        ret = self.send_command(\"HXREAD\\n\")\n",
    "        newVal = float(ret[1])\n",
    "        self.lcVal = newVal * self.lcCal\n",
    "        self.lcTime = time.time()\n",
    "        self.lcVals.append(self.lcVal)\n",
    "        self.lcTimes.append(self.lcTime)\n",
    "\n",
    "        return newVal\n",
    "\n",
    "    def tare_scale(self):\n",
    "        self.send_command(\"HXTARE\\n\")\n",
    "        #time.sleep()\n",
    "\n",
    "    def load_test(self, test_name, test_desc, test_part, test_type, test_limit):\n",
    "        if test_type == 1:\n",
    "            test_type = \"C\"\n",
    "        elif test_type == 2:\n",
    "            test_type = \"T\"\n",
    "        loop_count = 0\n",
    "        cur_limit = test_limit\n",
    "        load_dir = \"load\"\n",
    "        param_rec = {\n",
    "            'start_time': time.time(),\n",
    "            'end_time': time.time(),\n",
    "            'name': test_name,\n",
    "            'desc': test_desc,\n",
    "            'part_name': test_part,\n",
    "            'type': test_type,\n",
    "            'load_limit': test_limit,\n",
    "            'lc_cal': self.lcCal,\n",
    "            'load_direction': load_dir,\n",
    "        }\n",
    "        param_rec_id = self.dbSess.ltParamColl.insert_one(param_rec).inserted_id\n",
    "        print(f\"Parameters recorded at: {param_rec_id}\")\n",
    "        time.sleep(2)\n",
    "        self.tare_scale()\n",
    "        time.sleep(2)\n",
    "        while loop_count <= self.ltCycles:\n",
    "            i = 0\n",
    "            extras = 50\n",
    "            # Start by taring the load cell\n",
    "\n",
    "            #Set up load test record\n",
    "\n",
    "            dat_rec = {\n",
    "                'load_times': [],\n",
    "                'disp_times': [],\n",
    "                'loads': [],\n",
    "                'disps': [],\n",
    "                'load_direction': load_dir,\n",
    "                'param_rec_id': param_rec_id,\n",
    "            }\n",
    "            runL = True\n",
    "            self.send_command(f\"CL{test_type}{round(cur_limit / self.lcCal)}\\n\")\n",
    "            while runL or i <= extras:\n",
    "                if self.ser.in_waiting:\n",
    "                    response = self.ser.readline().decode()\n",
    "                    parsed = self.parse_command(response)\n",
    "                    if parsed[0] == 'lc':\n",
    "                        dat_rec['load_times'].append(time.time())\n",
    "                        load = float(parsed[1]) * self.lcCal\n",
    "                        self.lcVal = load\n",
    "                        self.lcVals.append(load)\n",
    "                        self.lcTimes.append(time.time())\n",
    "                        print(f\"Current load: {load}\")\n",
    "                        dat_rec['loads'].append(load)\n",
    "                    elif parsed[0] == 'ds':\n",
    "                        dat_rec['disp_times'].append(time.time())\n",
    "                        dat_rec['disps'].append(float(parsed[1]))\n",
    "                        print(f\"Current Disp: {float(parsed[1])}\")\n",
    "                    elif parsed[0] == 'lt':\n",
    "                        param_rec['end_time'] = time.time()\n",
    "                        if load_dir == \"unload\":\n",
    "                            if test_type == \"T\":\n",
    "                                self.set_motor(\"A\", \"R\", 75)\n",
    "                                time.sleep(0.02)\n",
    "                                self.set_motor(\"A\", \"S\", 0)\n",
    "                        runL = False\n",
    "                    else:\n",
    "                        #print(f\"Command error. Response received: {response}\")\n",
    "                        pass\n",
    "                if not runL:\n",
    "                    parsed = self.send_command(f\"HXALL\\n\")\n",
    "                    i += 1\n",
    "                    if parsed[0] == 'lc':\n",
    "                        dat_rec['load_times'].append(time.time())\n",
    "                        load = float(parsed[1]) * self.lcCal\n",
    "                        self.lcVal = load\n",
    "                        self.lcVals.append(load)\n",
    "                        self.lcTimes.append(time.time())\n",
    "                        dat_rec['loads'].append(load)\n",
    "                    elif parsed[0] == 'ds':\n",
    "                        dat_rec['disp_times'].append(time.time())\n",
    "                        dat_rec['disps'].append(float(parsed[1]))\n",
    "                    else:\n",
    "                        print(f\"Command error. Parsed received: {parsed}\")\n",
    "\n",
    "            dat_rec_id = self.dbSess.datColl.insert_one(dat_rec).inserted_id\n",
    "            print(f\"Data recorded at: {dat_rec_id}\")\n",
    "\n",
    "            if test_type == \"C\":\n",
    "                test_type = \"T\"\n",
    "            elif test_type == \"T\":\n",
    "                test_type = \"C\"\n",
    "            if load_dir == \"load\":\n",
    "                load_dir = \"unload\"\n",
    "                cur_limit = 0\n",
    "                loop_count += 1\n",
    "            elif load_dir == \"unload\":\n",
    "                load_dir = \"load\"\n",
    "                cur_limit = test_limit\n",
    "        return [param_rec_id, dat_rec_id]\n",
    "\n",
    "    def get_lc(self):\n",
    "        return self.lcVal\n",
    "\n",
    "    def close(self):\n",
    "        self.ser.close()"
   ],
   "id": "6684e425d2cfb9bd",
   "outputs": [],
   "execution_count": 12
  },
  {
   "metadata": {
    "ExecuteTime": {
     "end_time": "2025-07-29T00:43:32.175276Z",
     "start_time": "2025-07-29T00:43:32.010619Z"
    }
   },
   "cell_type": "code",
   "source": "mechSess = mechController()",
   "id": "d70cd651995e5b93",
   "outputs": [
    {
     "name": "stdout",
     "output_type": "stream",
     "text": [
      "Session record created at: 688819344c1e9af0e7e0cec1\n"
     ]
    }
   ],
   "execution_count": 13
  },
  {
   "metadata": {
    "ExecuteTime": {
     "end_time": "2025-07-29T00:43:33.488846Z",
     "start_time": "2025-07-29T00:43:33.282227Z"
    }
   },
   "cell_type": "code",
   "source": [
    "ret = mechSess.read_scale()\n",
    "print(ret)"
   ],
   "id": "e4e1511befd13514",
   "outputs": [
    {
     "name": "stdout",
     "output_type": "stream",
     "text": [
      "16538.0\n"
     ]
    }
   ],
   "execution_count": 14
  },
  {
   "metadata": {
    "ExecuteTime": {
     "end_time": "2025-07-29T00:44:37.505815Z",
     "start_time": "2025-07-29T00:44:37.402065Z"
    }
   },
   "cell_type": "code",
   "source": "ms2 = mechController()",
   "id": "23911db4e3036595",
   "outputs": [
    {
     "ename": "SerialException",
     "evalue": "could not open port 'COM6': PermissionError(13, 'Access is denied.', None, 5)",
     "output_type": "error",
     "traceback": [
      "\u001B[1;31m---------------------------------------------------------------------------\u001B[0m",
      "\u001B[1;31mSerialException\u001B[0m                           Traceback (most recent call last)",
      "Cell \u001B[1;32mIn[15], line 1\u001B[0m\n\u001B[1;32m----> 1\u001B[0m ms2 \u001B[38;5;241m=\u001B[39m \u001B[43mmechController\u001B[49m\u001B[43m(\u001B[49m\u001B[43m)\u001B[49m\n",
      "Cell \u001B[1;32mIn[12], line 3\u001B[0m, in \u001B[0;36mmechController.__init__\u001B[1;34m(self, serial_port, baud_rate)\u001B[0m\n\u001B[0;32m      2\u001B[0m \u001B[38;5;28;01mdef\u001B[39;00m \u001B[38;5;21m__init__\u001B[39m(\u001B[38;5;28mself\u001B[39m, serial_port\u001B[38;5;241m=\u001B[39m\u001B[38;5;124m'\u001B[39m\u001B[38;5;124mCOM6\u001B[39m\u001B[38;5;124m'\u001B[39m, baud_rate\u001B[38;5;241m=\u001B[39m\u001B[38;5;241m115200\u001B[39m):\n\u001B[1;32m----> 3\u001B[0m     \u001B[38;5;28mself\u001B[39m\u001B[38;5;241m.\u001B[39mser \u001B[38;5;241m=\u001B[39m \u001B[43mserial\u001B[49m\u001B[38;5;241;43m.\u001B[39;49m\u001B[43mSerial\u001B[49m\u001B[43m(\u001B[49m\u001B[43mserial_port\u001B[49m\u001B[43m,\u001B[49m\u001B[43m \u001B[49m\u001B[43mbaud_rate\u001B[49m\u001B[43m)\u001B[49m\n\u001B[0;32m      4\u001B[0m     \u001B[38;5;28mself\u001B[39m\u001B[38;5;241m.\u001B[39mlog_file \u001B[38;5;241m=\u001B[39m \u001B[38;5;124m\"\u001B[39m\u001B[38;5;124mcommand_log.json\u001B[39m\u001B[38;5;124m\"\u001B[39m\n\u001B[0;32m      5\u001B[0m     \u001B[38;5;28mself\u001B[39m\u001B[38;5;241m.\u001B[39mdbSess \u001B[38;5;241m=\u001B[39m dbComm()\n",
      "File \u001B[1;32m~\\AppData\\Local\\Programs\\Python\\Python312\\Lib\\site-packages\\serial\\serialwin32.py:33\u001B[0m, in \u001B[0;36mSerial.__init__\u001B[1;34m(self, *args, **kwargs)\u001B[0m\n\u001B[0;32m     31\u001B[0m \u001B[38;5;28mself\u001B[39m\u001B[38;5;241m.\u001B[39m_overlapped_read \u001B[38;5;241m=\u001B[39m \u001B[38;5;28;01mNone\u001B[39;00m\n\u001B[0;32m     32\u001B[0m \u001B[38;5;28mself\u001B[39m\u001B[38;5;241m.\u001B[39m_overlapped_write \u001B[38;5;241m=\u001B[39m \u001B[38;5;28;01mNone\u001B[39;00m\n\u001B[1;32m---> 33\u001B[0m \u001B[38;5;28;43msuper\u001B[39;49m\u001B[43m(\u001B[49m\u001B[43mSerial\u001B[49m\u001B[43m,\u001B[49m\u001B[43m \u001B[49m\u001B[38;5;28;43mself\u001B[39;49m\u001B[43m)\u001B[49m\u001B[38;5;241;43m.\u001B[39;49m\u001B[38;5;21;43m__init__\u001B[39;49m\u001B[43m(\u001B[49m\u001B[38;5;241;43m*\u001B[39;49m\u001B[43margs\u001B[49m\u001B[43m,\u001B[49m\u001B[43m \u001B[49m\u001B[38;5;241;43m*\u001B[39;49m\u001B[38;5;241;43m*\u001B[39;49m\u001B[43mkwargs\u001B[49m\u001B[43m)\u001B[49m\n",
      "File \u001B[1;32m~\\AppData\\Local\\Programs\\Python\\Python312\\Lib\\site-packages\\serial\\serialutil.py:244\u001B[0m, in \u001B[0;36mSerialBase.__init__\u001B[1;34m(self, port, baudrate, bytesize, parity, stopbits, timeout, xonxoff, rtscts, write_timeout, dsrdtr, inter_byte_timeout, exclusive, **kwargs)\u001B[0m\n\u001B[0;32m    241\u001B[0m     \u001B[38;5;28;01mraise\u001B[39;00m \u001B[38;5;167;01mValueError\u001B[39;00m(\u001B[38;5;124m'\u001B[39m\u001B[38;5;124munexpected keyword arguments: \u001B[39m\u001B[38;5;132;01m{!r}\u001B[39;00m\u001B[38;5;124m'\u001B[39m\u001B[38;5;241m.\u001B[39mformat(kwargs))\n\u001B[0;32m    243\u001B[0m \u001B[38;5;28;01mif\u001B[39;00m port \u001B[38;5;129;01mis\u001B[39;00m \u001B[38;5;129;01mnot\u001B[39;00m \u001B[38;5;28;01mNone\u001B[39;00m:\n\u001B[1;32m--> 244\u001B[0m     \u001B[38;5;28;43mself\u001B[39;49m\u001B[38;5;241;43m.\u001B[39;49m\u001B[43mopen\u001B[49m\u001B[43m(\u001B[49m\u001B[43m)\u001B[49m\n",
      "File \u001B[1;32m~\\AppData\\Local\\Programs\\Python\\Python312\\Lib\\site-packages\\serial\\serialwin32.py:64\u001B[0m, in \u001B[0;36mSerial.open\u001B[1;34m(self)\u001B[0m\n\u001B[0;32m     62\u001B[0m \u001B[38;5;28;01mif\u001B[39;00m \u001B[38;5;28mself\u001B[39m\u001B[38;5;241m.\u001B[39m_port_handle \u001B[38;5;241m==\u001B[39m win32\u001B[38;5;241m.\u001B[39mINVALID_HANDLE_VALUE:\n\u001B[0;32m     63\u001B[0m     \u001B[38;5;28mself\u001B[39m\u001B[38;5;241m.\u001B[39m_port_handle \u001B[38;5;241m=\u001B[39m \u001B[38;5;28;01mNone\u001B[39;00m    \u001B[38;5;66;03m# 'cause __del__ is called anyway\u001B[39;00m\n\u001B[1;32m---> 64\u001B[0m     \u001B[38;5;28;01mraise\u001B[39;00m SerialException(\u001B[38;5;124m\"\u001B[39m\u001B[38;5;124mcould not open port \u001B[39m\u001B[38;5;132;01m{!r}\u001B[39;00m\u001B[38;5;124m: \u001B[39m\u001B[38;5;132;01m{!r}\u001B[39;00m\u001B[38;5;124m\"\u001B[39m\u001B[38;5;241m.\u001B[39mformat(\u001B[38;5;28mself\u001B[39m\u001B[38;5;241m.\u001B[39mportstr, ctypes\u001B[38;5;241m.\u001B[39mWinError()))\n\u001B[0;32m     66\u001B[0m \u001B[38;5;28;01mtry\u001B[39;00m:\n\u001B[0;32m     67\u001B[0m     \u001B[38;5;28mself\u001B[39m\u001B[38;5;241m.\u001B[39m_overlapped_read \u001B[38;5;241m=\u001B[39m win32\u001B[38;5;241m.\u001B[39mOVERLAPPED()\n",
      "\u001B[1;31mSerialException\u001B[0m: could not open port 'COM6': PermissionError(13, 'Access is denied.', None, 5)"
     ]
    }
   ],
   "execution_count": 15
  },
  {
   "metadata": {
    "ExecuteTime": {
     "end_time": "2025-07-29T00:44:56.954641Z",
     "start_time": "2025-07-29T00:44:56.907678Z"
    }
   },
   "cell_type": "code",
   "source": "print(ms2)",
   "id": "18114173c06183bf",
   "outputs": [
    {
     "ename": "NameError",
     "evalue": "name 'ms2' is not defined",
     "output_type": "error",
     "traceback": [
      "\u001B[1;31m---------------------------------------------------------------------------\u001B[0m",
      "\u001B[1;31mNameError\u001B[0m                                 Traceback (most recent call last)",
      "Cell \u001B[1;32mIn[16], line 1\u001B[0m\n\u001B[1;32m----> 1\u001B[0m \u001B[38;5;28mprint\u001B[39m(\u001B[43mms2\u001B[49m)\n",
      "\u001B[1;31mNameError\u001B[0m: name 'ms2' is not defined"
     ]
    }
   ],
   "execution_count": 16
  },
  {
   "metadata": {
    "ExecuteTime": {
     "end_time": "2025-07-29T00:47:25.103107Z",
     "start_time": "2025-07-29T00:47:25.100255Z"
    }
   },
   "cell_type": "code",
   "source": "print(42)",
   "id": "7f5191d65e12e80b",
   "outputs": [
    {
     "name": "stdout",
     "output_type": "stream",
     "text": [
      "42\n"
     ]
    }
   ],
   "execution_count": 3
  },
  {
   "metadata": {
    "jupyter": {
     "is_executing": true
    }
   },
   "cell_type": "code",
   "source": "print('apple')",
   "id": "921746857c88981a",
   "outputs": [],
   "execution_count": null
  },
  {
   "metadata": {
    "ExecuteTime": {
     "end_time": "2025-08-02T19:25:35.278445Z",
     "start_time": "2025-08-02T19:25:35.275534Z"
    }
   },
   "cell_type": "code",
   "source": "(2**24) /4",
   "id": "d6253210aec14357",
   "outputs": [
    {
     "data": {
      "text/plain": [
       "4194304.0"
      ]
     },
     "execution_count": 2,
     "metadata": {},
     "output_type": "execute_result"
    }
   ],
   "execution_count": 2
  },
  {
   "metadata": {
    "ExecuteTime": {
     "end_time": "2025-08-02T21:11:22.004543Z",
     "start_time": "2025-08-02T21:11:21.999703Z"
    }
   },
   "cell_type": "code",
   "source": "14*0.6",
   "id": "130a3ae44884031c",
   "outputs": [
    {
     "data": {
      "text/plain": [
       "8.4"
      ]
     },
     "execution_count": 3,
     "metadata": {},
     "output_type": "execute_result"
    }
   ],
   "execution_count": 3
  },
  {
   "metadata": {},
   "cell_type": "code",
   "outputs": [],
   "execution_count": null,
   "source": "",
   "id": "87bc2d3681499221"
  }
 ],
 "metadata": {
  "kernelspec": {
   "display_name": "Python 3",
   "language": "python",
   "name": "python3"
  },
  "language_info": {
   "codemirror_mode": {
    "name": "ipython",
    "version": 2
   },
   "file_extension": ".py",
   "mimetype": "text/x-python",
   "name": "python",
   "nbconvert_exporter": "python",
   "pygments_lexer": "ipython2",
   "version": "2.7.6"
  }
 },
 "nbformat": 4,
 "nbformat_minor": 5
}
