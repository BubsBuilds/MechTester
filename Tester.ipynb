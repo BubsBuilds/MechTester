{
 "cells": [
  {
   "cell_type": "code",
   "outputs": [],
   "source": [
    "import gpiod\n",
    "DT_PIN = 27\n",
    "SCK_PIN = 17\n",
    "# LED_PIN = 17\n",
    "# BUTTON_PIN = 27\n",
    "chip = gpiod.Chip('gpiochip4')\n",
    "dt_line = chip.get_line(DT_PIN)\n",
    "sck_line = chip.get_line(SCK_PIN)\n",
    "led_line.request(consumer=\"LED\", type=gpiod.LINE_REQ_DIR_OUT)\n",
    "button_line.request(consumer=\"Button\", type=gpiod.LINE_REQ_DIR_IN)\n",
    "try:\n",
    "   while True:\n",
    "       button_state = button_line.get_value()\n",
    "       if button_state == 1:\n",
    "           led_line.set_value(1)\n",
    "       else:\n",
    "           led_line.set_value(0)\n",
    "finally:\n",
    "   led_line.release()\n",
    "button_line.release()"
   ],
   "metadata": {
    "collapsed": false
   },
   "id": "5f26547e212577cf"
  },
  {
   "cell_type": "code",
   "outputs": [
    {
     "ename": "GPIOPinInUse",
     "evalue": "pin GPIO17 is already in use by <gpiozero.OutputDevice object on pin GPIO17, active_high=True, is_active=False>",
     "output_type": "error",
     "traceback": [
      "\u001B[0;31m---------------------------------------------------------------------------\u001B[0m",
      "\u001B[0;31mGPIOPinInUse\u001B[0m                              Traceback (most recent call last)",
      "Cell \u001B[0;32mIn[6], line 8\u001B[0m\n\u001B[1;32m      6\u001B[0m Count\u001B[38;5;241m=\u001B[39m\u001B[38;5;241m0\u001B[39m\n\u001B[1;32m      7\u001B[0m \u001B[38;5;66;03m#dt = gpiozero.OutputDevice(DT_PIN)\u001B[39;00m\n\u001B[0;32m----> 8\u001B[0m sck \u001B[38;5;241m=\u001B[39m \u001B[43mgpiozero\u001B[49m\u001B[38;5;241;43m.\u001B[39;49m\u001B[43mOutputDevice\u001B[49m\u001B[43m(\u001B[49m\u001B[43mSCK_PIN\u001B[49m\u001B[43m)\u001B[49m\n\u001B[1;32m      9\u001B[0m \u001B[38;5;66;03m#dt.on()\u001B[39;00m\n\u001B[1;32m     10\u001B[0m \u001B[38;5;66;03m#dt.close()\u001B[39;00m\n\u001B[1;32m     11\u001B[0m sck\u001B[38;5;241m.\u001B[39moff()\n",
      "File \u001B[0;32m/usr/lib/python3/dist-packages/gpiozero/devices.py:103\u001B[0m, in \u001B[0;36mGPIOMeta.__call__\u001B[0;34m(cls, *args, **kwargs)\u001B[0m\n\u001B[1;32m    100\u001B[0m         \u001B[38;5;28mcls\u001B[39m\u001B[38;5;241m.\u001B[39m_instances[key] \u001B[38;5;241m=\u001B[39m weakref\u001B[38;5;241m.\u001B[39mref(\u001B[38;5;28mself\u001B[39m)\n\u001B[1;32m    101\u001B[0m \u001B[38;5;28;01melse\u001B[39;00m:\n\u001B[1;32m    102\u001B[0m     \u001B[38;5;66;03m# Construct the instance as normal\u001B[39;00m\n\u001B[0;32m--> 103\u001B[0m     \u001B[38;5;28mself\u001B[39m \u001B[38;5;241m=\u001B[39m \u001B[38;5;28;43msuper\u001B[39;49m\u001B[43m(\u001B[49m\u001B[43m)\u001B[49m\u001B[38;5;241;43m.\u001B[39;49m\u001B[38;5;21;43m__call__\u001B[39;49m\u001B[43m(\u001B[49m\u001B[38;5;241;43m*\u001B[39;49m\u001B[43margs\u001B[49m\u001B[43m,\u001B[49m\u001B[43m \u001B[49m\u001B[38;5;241;43m*\u001B[39;49m\u001B[38;5;241;43m*\u001B[39;49m\u001B[43mkwargs\u001B[49m\u001B[43m)\u001B[49m\n\u001B[1;32m    104\u001B[0m \u001B[38;5;66;03m# At this point __new__ and __init__ have all been run. We now fix the\u001B[39;00m\n\u001B[1;32m    105\u001B[0m \u001B[38;5;66;03m# set of attributes on the class by dir'ing the instance and creating a\u001B[39;00m\n\u001B[1;32m    106\u001B[0m \u001B[38;5;66;03m# frozenset of the result called __attrs__ (which is queried by\u001B[39;00m\n\u001B[1;32m    107\u001B[0m \u001B[38;5;66;03m# GPIOBase.__setattr__). An exception is made for SharedMixin devices\u001B[39;00m\n\u001B[1;32m    108\u001B[0m \u001B[38;5;66;03m# which can be constructed multiple times, returning the same instance\u001B[39;00m\n\u001B[1;32m    109\u001B[0m \u001B[38;5;28;01mif\u001B[39;00m \u001B[38;5;129;01mnot\u001B[39;00m \u001B[38;5;28missubclass\u001B[39m(\u001B[38;5;28mcls\u001B[39m, SharedMixin) \u001B[38;5;129;01mor\u001B[39;00m \u001B[38;5;28mself\u001B[39m\u001B[38;5;241m.\u001B[39m_refs \u001B[38;5;241m==\u001B[39m \u001B[38;5;241m1\u001B[39m:\n",
      "File \u001B[0;32m/usr/lib/python3/dist-packages/gpiozero/output_devices.py:74\u001B[0m, in \u001B[0;36mOutputDevice.__init__\u001B[0;34m(self, pin, active_high, initial_value, pin_factory)\u001B[0m\n\u001B[1;32m     72\u001B[0m \u001B[38;5;28;01mdef\u001B[39;00m \u001B[38;5;21m__init__\u001B[39m(\u001B[38;5;28mself\u001B[39m, pin\u001B[38;5;241m=\u001B[39m\u001B[38;5;28;01mNone\u001B[39;00m, \u001B[38;5;241m*\u001B[39m, active_high\u001B[38;5;241m=\u001B[39m\u001B[38;5;28;01mTrue\u001B[39;00m, initial_value\u001B[38;5;241m=\u001B[39m\u001B[38;5;28;01mFalse\u001B[39;00m,\n\u001B[1;32m     73\u001B[0m              pin_factory\u001B[38;5;241m=\u001B[39m\u001B[38;5;28;01mNone\u001B[39;00m):\n\u001B[0;32m---> 74\u001B[0m     \u001B[38;5;28;43msuper\u001B[39;49m\u001B[43m(\u001B[49m\u001B[43m)\u001B[49m\u001B[38;5;241;43m.\u001B[39;49m\u001B[38;5;21;43m__init__\u001B[39;49m\u001B[43m(\u001B[49m\u001B[43mpin\u001B[49m\u001B[43m,\u001B[49m\u001B[43m \u001B[49m\u001B[43mpin_factory\u001B[49m\u001B[38;5;241;43m=\u001B[39;49m\u001B[43mpin_factory\u001B[49m\u001B[43m)\u001B[49m\n\u001B[1;32m     75\u001B[0m     \u001B[38;5;28mself\u001B[39m\u001B[38;5;241m.\u001B[39m_lock \u001B[38;5;241m=\u001B[39m Lock()\n\u001B[1;32m     76\u001B[0m     \u001B[38;5;28mself\u001B[39m\u001B[38;5;241m.\u001B[39mactive_high \u001B[38;5;241m=\u001B[39m active_high\n",
      "File \u001B[0;32m/usr/lib/python3/dist-packages/gpiozero/mixins.py:75\u001B[0m, in \u001B[0;36mSourceMixin.__init__\u001B[0;34m(self, *args, **kwargs)\u001B[0m\n\u001B[1;32m     73\u001B[0m \u001B[38;5;28mself\u001B[39m\u001B[38;5;241m.\u001B[39m_source_thread \u001B[38;5;241m=\u001B[39m \u001B[38;5;28;01mNone\u001B[39;00m\n\u001B[1;32m     74\u001B[0m \u001B[38;5;28mself\u001B[39m\u001B[38;5;241m.\u001B[39m_source_delay \u001B[38;5;241m=\u001B[39m \u001B[38;5;241m0.01\u001B[39m\n\u001B[0;32m---> 75\u001B[0m \u001B[38;5;28;43msuper\u001B[39;49m\u001B[43m(\u001B[49m\u001B[43m)\u001B[49m\u001B[38;5;241;43m.\u001B[39;49m\u001B[38;5;21;43m__init__\u001B[39;49m\u001B[43m(\u001B[49m\u001B[38;5;241;43m*\u001B[39;49m\u001B[43margs\u001B[49m\u001B[43m,\u001B[49m\u001B[43m \u001B[49m\u001B[38;5;241;43m*\u001B[39;49m\u001B[38;5;241;43m*\u001B[39;49m\u001B[43mkwargs\u001B[49m\u001B[43m)\u001B[49m\n",
      "File \u001B[0;32m/usr/lib/python3/dist-packages/gpiozero/devices.py:548\u001B[0m, in \u001B[0;36mGPIODevice.__init__\u001B[0;34m(self, pin, pin_factory)\u001B[0m\n\u001B[1;32m    546\u001B[0m     \u001B[38;5;28;01mraise\u001B[39;00m GPIOPinMissing(\u001B[38;5;124m'\u001B[39m\u001B[38;5;124mNo pin given\u001B[39m\u001B[38;5;124m'\u001B[39m)\n\u001B[1;32m    547\u001B[0m \u001B[38;5;66;03m# Check you can reserve *before* constructing the pin\u001B[39;00m\n\u001B[0;32m--> 548\u001B[0m \u001B[38;5;28;43mself\u001B[39;49m\u001B[38;5;241;43m.\u001B[39;49m\u001B[43mpin_factory\u001B[49m\u001B[38;5;241;43m.\u001B[39;49m\u001B[43mreserve_pins\u001B[49m\u001B[43m(\u001B[49m\u001B[38;5;28;43mself\u001B[39;49m\u001B[43m,\u001B[49m\u001B[43m \u001B[49m\u001B[43mpin\u001B[49m\u001B[43m)\u001B[49m\n\u001B[1;32m    549\u001B[0m pin \u001B[38;5;241m=\u001B[39m \u001B[38;5;28mself\u001B[39m\u001B[38;5;241m.\u001B[39mpin_factory\u001B[38;5;241m.\u001B[39mpin(pin)\n\u001B[1;32m    550\u001B[0m \u001B[38;5;28mself\u001B[39m\u001B[38;5;241m.\u001B[39m_pin \u001B[38;5;241m=\u001B[39m pin\n",
      "File \u001B[0;32m/usr/lib/python3/dist-packages/gpiozero/pins/__init__.py:88\u001B[0m, in \u001B[0;36mFactory.reserve_pins\u001B[0;34m(self, requester, *names)\u001B[0m\n\u001B[1;32m     86\u001B[0m     reserver \u001B[38;5;241m=\u001B[39m reserver_ref()\n\u001B[1;32m     87\u001B[0m     \u001B[38;5;28;01mif\u001B[39;00m reserver \u001B[38;5;129;01mis\u001B[39;00m \u001B[38;5;129;01mnot\u001B[39;00m \u001B[38;5;28;01mNone\u001B[39;00m \u001B[38;5;129;01mand\u001B[39;00m requester\u001B[38;5;241m.\u001B[39m_conflicts_with(reserver):\n\u001B[0;32m---> 88\u001B[0m         \u001B[38;5;28;01mraise\u001B[39;00m GPIOPinInUse(\n\u001B[1;32m     89\u001B[0m             \u001B[38;5;124mf\u001B[39m\u001B[38;5;124m'\u001B[39m\u001B[38;5;124mpin \u001B[39m\u001B[38;5;132;01m{\u001B[39;00mpin\u001B[38;5;241m.\u001B[39mname\u001B[38;5;132;01m}\u001B[39;00m\u001B[38;5;124m is already in use by \u001B[39m\u001B[38;5;132;01m{\u001B[39;00mreserver\u001B[38;5;132;01m!r}\u001B[39;00m\u001B[38;5;124m'\u001B[39m)\n\u001B[1;32m     90\u001B[0m \u001B[38;5;28mself\u001B[39m\u001B[38;5;241m.\u001B[39m_reservations[pin]\u001B[38;5;241m.\u001B[39mappend(ref(requester))\n",
      "\u001B[0;31mGPIOPinInUse\u001B[0m: pin GPIO17 is already in use by <gpiozero.OutputDevice object on pin GPIO17, active_high=True, is_active=False>"
     ]
    }
   ],
   "source": [
    "import gpiozero\n",
    "\n",
    "DT_PIN = 27\n",
    "SCK_PIN = 17\n",
    "i=0\n",
    "Count=0\n",
    "#dt = gpiozero.OutputDevice(DT_PIN)\n",
    "sck = gpiozero.OutputDevice(SCK_PIN)\n",
    "#dt.on()\n",
    "#dt.close()\n",
    "sck.off()\n",
    "dt = gpiozero.InputDevice(DT_PIN)\n",
    "while dt.value == 1:\n",
    "    i=0\n",
    "for i in range(24):\n",
    "    sck.on()\n",
    "    Count=Count<<1\n",
    "    sck.off()\n",
    "    #time.sleep(0.001)\n",
    "    if dt.value == 0: \n",
    "        Count=Count+1\n",
    "    sck.on()\n",
    "    Count=Count^0x800000\n",
    "    #time.sleep(0.001)\n",
    "    sck.off()\n"
   ],
   "metadata": {
    "collapsed": false,
    "ExecuteTime": {
     "end_time": "2024-02-22T04:22:09.068875337Z",
     "start_time": "2024-02-22T04:22:07.806711705Z"
    }
   },
   "id": "e43fe678588ae57a",
   "execution_count": 6
  },
  {
   "cell_type": "code",
   "outputs": [],
   "source": [
    "from gpiozero import Motor\n",
    "\n",
    "motor1 = Motor(14, 15, 18, 23)\n",
    "motor2 = Motor(12, 16, 20, 21)\n",
    "motor1.forward(0.25)\n",
    "motor2.forward(0.25)\n",
    "motor1.stop()\n",
    "motor2.stop()"
   ],
   "metadata": {
    "collapsed": false
   },
   "id": "7357facf8b0fbd47"
  },
  {
   "cell_type": "code",
   "outputs": [
    {
     "name": "stderr",
     "output_type": "stream",
     "text": [
      "<>:5: SyntaxWarning: invalid escape sequence '\\c'\n",
      "<>:5: SyntaxWarning: invalid escape sequence '\\c'\n",
      "C:\\Users\\BubsBuilds\\AppData\\Local\\Temp\\ipykernel_7448\\4194933029.py:5: SyntaxWarning: invalid escape sequence '\\c'\n",
      "  filename = 'B:\\codeRepo\\MechTester\\MechTester\\_test\\TestResult_1708664352.csv'\n"
     ]
    },
    {
     "name": "stdout",
     "output_type": "stream",
     "text": [
      "1708664334.731 15.792\n",
      "1708664334.932 15.788\n",
      "1708664335.132 15.776\n",
      "1708664335.333 15.76\n",
      "1708664335.533 15.754\n",
      "1708664335.733 15.766\n",
      "1708664335.934 15.756\n",
      "1708664336.134 15.656\n",
      "1708664336.335 15.686\n",
      "1708664336.535 15.698\n",
      "1708664336.735 15.65\n",
      "1708664336.936 15.644\n",
      "1708664337.136 15.58\n",
      "1708664337.336 15.478\n",
      "1708664337.537 15.482\n",
      "1708664337.737 15.43\n",
      "1708664337.937 15.37\n",
      "1708664338.138 15.348\n",
      "1708664338.338 14.214\n",
      "1708664338.538 -34.35\n",
      "1708664338.739 -93.452\n",
      "1708664338.939 -1087.368\n",
      "1708664339.139 -1813.258\n",
      "1708664339.34 -1798.418\n",
      "1708664339.54 -1794.47\n",
      "1708664339.741 -1791.472\n",
      "1708664339.941 -1788.726\n",
      "1708664340.142 -1786.288\n",
      "1708664340.342 -1783.8\n",
      "1708664340.543 -1782.892\n",
      "1708664340.743 -1782.086\n",
      "1708664340.944 -1781.414\n",
      "1708664341.144 -1780.542\n",
      "1708664341.345 -1779.978\n",
      "1708664341.545 -1779.522\n",
      "1708664341.746 -1779.162\n",
      "1708664341.946 -1778.766\n",
      "1708664342.146 -1778.268\n",
      "1708664342.347 -1777.964\n",
      "1708664342.547 -1777.64\n",
      "1708664342.747 -1777.352\n",
      "1708664342.948 -1777.072\n",
      "1708664343.148 -1776.712\n",
      "1708664343.348 -1776.39\n",
      "1708664343.549 -1776.114\n",
      "1708664343.749 -1775.924\n",
      "1708664343.949 -1775.576\n",
      "1708664344.15 -1775.4\n",
      "1708664344.35 -1772.04\n",
      "1708664344.551 -1770.75\n",
      "1708664344.751 -1770.196\n",
      "1708664344.951 -1769.718\n",
      "1708664345.152 -1769.412\n",
      "1708664345.352 -1769.136\n",
      "1708664345.552 -1768.898\n",
      "1708664345.753 -1768.574\n",
      "1708664345.953 -1768.316\n",
      "1708664346.153 -1768.128\n",
      "1708664346.354 -1767.92\n",
      "1708664346.554 -1767.75\n",
      "1708664346.754 -1767.516\n",
      "1708664346.955 -1767.362\n",
      "1708664347.155 -1767.248\n",
      "1708664347.356 -1767.126\n",
      "1708664347.556 -1766.942\n",
      "1708664347.757 -1766.778\n",
      "1708664347.957 -1766.638\n",
      "1708664348.158 -1766.468\n",
      "1708664348.358 -1766.356\n",
      "1708664348.559 -1766.178\n",
      "1708664348.759 -1766.056\n",
      "1708664348.96 -1765.878\n",
      "1708664349.16 -1765.622\n",
      "1708664349.361 -1765.59\n",
      "1708664349.561 -1765.488\n",
      "1708664349.762 -1765.414\n",
      "1708664349.962 -1765.314\n",
      "1708664350.163 -1765.202\n",
      "1708664350.363 -1765.186\n",
      "1708664350.564 -1764.934\n",
      "1708664350.764 -1764.81\n",
      "1708664350.965 -1764.772\n",
      "1708664351.165 -1764.518\n",
      "1708664351.366 -1764.48\n",
      "1708664351.566 -1764.298\n"
     ]
    },
    {
     "data": {
      "text/plain": "<Figure size 640x480 with 1 Axes>",
      "image/png": "[encoded data removed]"
     },
     "metadata": {},
     "output_type": "display_data"
    }
   ],
   "source": [
    "import csv\n",
    "import time\n",
    "from matplotlib import pyplot as plt\n",
    "\n",
    "filename = 'B:\\codeRepo\\MechTester\\MechTester\\_test\\TestResult_1708664352.csv'\n",
    "loads = []\n",
    "times = []\n",
    "with open(filename) as csv_file:\n",
    "    csv_reader = csv.reader(csv_file, delimiter=',')\n",
    "    for row in csv_reader:\n",
    "        curTime = round(float(row[0]), 3)\n",
    "        curLoad = round(float(row[1]), 3)*2\n",
    "        times.append(curTime)\n",
    "        loads.append(curLoad)\n",
    "        print(curTime,curLoad)\n",
    "        \n",
    "plt.plot(times, loads)\n",
    "plt.show()"
   ],
   "metadata": {
    "collapsed": false,
    "ExecuteTime": {
     "end_time": "2024-02-24T01:36:09.507676200Z",
     "start_time": "2024-02-24T01:36:09.223535900Z"
    }
   },
   "id": "7c964396f7d82460",
   "execution_count": 18
  },
  {
   "cell_type": "code",
   "outputs": [],
   "source": [],
   "metadata": {
    "collapsed": false
   },
   "id": "5703563df4fc5d49"
  }
 ],
 "metadata": {
  "kernelspec": {
   "display_name": "Python 3",
   "language": "python",
   "name": "python3"
  },
  "language_info": {
   "codemirror_mode": {
    "name": "ipython",
    "version": 2
   },
   "file_extension": ".py",
   "mimetype": "text/x-python",
   "name": "python",
   "nbconvert_exporter": "python",
   "pygments_lexer": "ipython2",
   "version": "2.7.6"
  }
 },
 "nbformat": 4,
 "nbformat_minor": 5
}
