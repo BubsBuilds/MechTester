{
 "cells": [
  {
   "cell_type": "code",
   "outputs": [],
   "source": [
    "import gpiod\n",
    "DT_PIN = 27\n",
    "SCK_PIN = 17\n",
    "# LED_PIN = 17\n",
    "# BUTTON_PIN = 27\n",
    "chip = gpiod.Chip('gpiochip4')\n",
    "dt_line = chip.get_line(DT_PIN)\n",
    "sck_line = chip.get_line(SCK_PIN)\n",
    "led_line.request(consumer=\"LED\", type=gpiod.LINE_REQ_DIR_OUT)\n",
    "button_line.request(consumer=\"Button\", type=gpiod.LINE_REQ_DIR_IN)\n",
    "try:\n",
    "   while True:\n",
    "       button_state = button_line.get_value()\n",
    "       if button_state == 1:\n",
    "           led_line.set_value(1)\n",
    "       else:\n",
    "           led_line.set_value(0)\n",
    "finally:\n",
    "   led_line.release()\n",
    "button_line.release()"
   ],
   "metadata": {
    "collapsed": false
   },
   "id": "5f26547e212577cf"
  },
  {
   "cell_type": "code",
   "outputs": [
    {
     "ename": "GPIOPinInUse",
     "evalue": "pin GPIO17 is already in use by <gpiozero.OutputDevice object on pin GPIO17, active_high=True, is_active=False>",
     "output_type": "error",
     "traceback": [
      "\u001B[0;31m---------------------------------------------------------------------------\u001B[0m",
      "\u001B[0;31mGPIOPinInUse\u001B[0m                              Traceback (most recent call last)",
      "Cell \u001B[0;32mIn[6], line 8\u001B[0m\n\u001B[1;32m      6\u001B[0m Count\u001B[38;5;241m=\u001B[39m\u001B[38;5;241m0\u001B[39m\n\u001B[1;32m      7\u001B[0m \u001B[38;5;66;03m#dt = gpiozero.OutputDevice(DT_PIN)\u001B[39;00m\n\u001B[0;32m----> 8\u001B[0m sck \u001B[38;5;241m=\u001B[39m \u001B[43mgpiozero\u001B[49m\u001B[38;5;241;43m.\u001B[39;49m\u001B[43mOutputDevice\u001B[49m\u001B[43m(\u001B[49m\u001B[43mSCK_PIN\u001B[49m\u001B[43m)\u001B[49m\n\u001B[1;32m      9\u001B[0m \u001B[38;5;66;03m#dt.on()\u001B[39;00m\n\u001B[1;32m     10\u001B[0m \u001B[38;5;66;03m#dt.close()\u001B[39;00m\n\u001B[1;32m     11\u001B[0m sck\u001B[38;5;241m.\u001B[39moff()\n",
      "File \u001B[0;32m/usr/lib/python3/dist-packages/gpiozero/devices.py:103\u001B[0m, in \u001B[0;36mGPIOMeta.__call__\u001B[0;34m(cls, *args, **kwargs)\u001B[0m\n\u001B[1;32m    100\u001B[0m         \u001B[38;5;28mcls\u001B[39m\u001B[38;5;241m.\u001B[39m_instances[key] \u001B[38;5;241m=\u001B[39m weakref\u001B[38;5;241m.\u001B[39mref(\u001B[38;5;28mself\u001B[39m)\n\u001B[1;32m    101\u001B[0m \u001B[38;5;28;01melse\u001B[39;00m:\n\u001B[1;32m    102\u001B[0m     \u001B[38;5;66;03m# Construct the instance as normal\u001B[39;00m\n\u001B[0;32m--> 103\u001B[0m     \u001B[38;5;28mself\u001B[39m \u001B[38;5;241m=\u001B[39m \u001B[38;5;28;43msuper\u001B[39;49m\u001B[43m(\u001B[49m\u001B[43m)\u001B[49m\u001B[38;5;241;43m.\u001B[39;49m\u001B[38;5;21;43m__call__\u001B[39;49m\u001B[43m(\u001B[49m\u001B[38;5;241;43m*\u001B[39;49m\u001B[43margs\u001B[49m\u001B[43m,\u001B[49m\u001B[43m \u001B[49m\u001B[38;5;241;43m*\u001B[39;49m\u001B[38;5;241;43m*\u001B[39;49m\u001B[43mkwargs\u001B[49m\u001B[43m)\u001B[49m\n\u001B[1;32m    104\u001B[0m \u001B[38;5;66;03m# At this point __new__ and __init__ have all been run. We now fix the\u001B[39;00m\n\u001B[1;32m    105\u001B[0m \u001B[38;5;66;03m# set of attributes on the class by dir'ing the instance and creating a\u001B[39;00m\n\u001B[1;32m    106\u001B[0m \u001B[38;5;66;03m# frozenset of the result called __attrs__ (which is queried by\u001B[39;00m\n\u001B[1;32m    107\u001B[0m \u001B[38;5;66;03m# GPIOBase.__setattr__). An exception is made for SharedMixin devices\u001B[39;00m\n\u001B[1;32m    108\u001B[0m \u001B[38;5;66;03m# which can be constructed multiple times, returning the same instance\u001B[39;00m\n\u001B[1;32m    109\u001B[0m \u001B[38;5;28;01mif\u001B[39;00m \u001B[38;5;129;01mnot\u001B[39;00m \u001B[38;5;28missubclass\u001B[39m(\u001B[38;5;28mcls\u001B[39m, SharedMixin) \u001B[38;5;129;01mor\u001B[39;00m \u001B[38;5;28mself\u001B[39m\u001B[38;5;241m.\u001B[39m_refs \u001B[38;5;241m==\u001B[39m \u001B[38;5;241m1\u001B[39m:\n",
      "File \u001B[0;32m/usr/lib/python3/dist-packages/gpiozero/output_devices.py:74\u001B[0m, in \u001B[0;36mOutputDevice.__init__\u001B[0;34m(self, pin, active_high, initial_value, pin_factory)\u001B[0m\n\u001B[1;32m     72\u001B[0m \u001B[38;5;28;01mdef\u001B[39;00m \u001B[38;5;21m__init__\u001B[39m(\u001B[38;5;28mself\u001B[39m, pin\u001B[38;5;241m=\u001B[39m\u001B[38;5;28;01mNone\u001B[39;00m, \u001B[38;5;241m*\u001B[39m, active_high\u001B[38;5;241m=\u001B[39m\u001B[38;5;28;01mTrue\u001B[39;00m, initial_value\u001B[38;5;241m=\u001B[39m\u001B[38;5;28;01mFalse\u001B[39;00m,\n\u001B[1;32m     73\u001B[0m              pin_factory\u001B[38;5;241m=\u001B[39m\u001B[38;5;28;01mNone\u001B[39;00m):\n\u001B[0;32m---> 74\u001B[0m     \u001B[38;5;28;43msuper\u001B[39;49m\u001B[43m(\u001B[49m\u001B[43m)\u001B[49m\u001B[38;5;241;43m.\u001B[39;49m\u001B[38;5;21;43m__init__\u001B[39;49m\u001B[43m(\u001B[49m\u001B[43mpin\u001B[49m\u001B[43m,\u001B[49m\u001B[43m \u001B[49m\u001B[43mpin_factory\u001B[49m\u001B[38;5;241;43m=\u001B[39;49m\u001B[43mpin_factory\u001B[49m\u001B[43m)\u001B[49m\n\u001B[1;32m     75\u001B[0m     \u001B[38;5;28mself\u001B[39m\u001B[38;5;241m.\u001B[39m_lock \u001B[38;5;241m=\u001B[39m Lock()\n\u001B[1;32m     76\u001B[0m     \u001B[38;5;28mself\u001B[39m\u001B[38;5;241m.\u001B[39mactive_high \u001B[38;5;241m=\u001B[39m active_high\n",
      "File \u001B[0;32m/usr/lib/python3/dist-packages/gpiozero/mixins.py:75\u001B[0m, in \u001B[0;36mSourceMixin.__init__\u001B[0;34m(self, *args, **kwargs)\u001B[0m\n\u001B[1;32m     73\u001B[0m \u001B[38;5;28mself\u001B[39m\u001B[38;5;241m.\u001B[39m_source_thread \u001B[38;5;241m=\u001B[39m \u001B[38;5;28;01mNone\u001B[39;00m\n\u001B[1;32m     74\u001B[0m \u001B[38;5;28mself\u001B[39m\u001B[38;5;241m.\u001B[39m_source_delay \u001B[38;5;241m=\u001B[39m \u001B[38;5;241m0.01\u001B[39m\n\u001B[0;32m---> 75\u001B[0m \u001B[38;5;28;43msuper\u001B[39;49m\u001B[43m(\u001B[49m\u001B[43m)\u001B[49m\u001B[38;5;241;43m.\u001B[39;49m\u001B[38;5;21;43m__init__\u001B[39;49m\u001B[43m(\u001B[49m\u001B[38;5;241;43m*\u001B[39;49m\u001B[43margs\u001B[49m\u001B[43m,\u001B[49m\u001B[43m \u001B[49m\u001B[38;5;241;43m*\u001B[39;49m\u001B[38;5;241;43m*\u001B[39;49m\u001B[43mkwargs\u001B[49m\u001B[43m)\u001B[49m\n",
      "File \u001B[0;32m/usr/lib/python3/dist-packages/gpiozero/devices.py:548\u001B[0m, in \u001B[0;36mGPIODevice.__init__\u001B[0;34m(self, pin, pin_factory)\u001B[0m\n\u001B[1;32m    546\u001B[0m     \u001B[38;5;28;01mraise\u001B[39;00m GPIOPinMissing(\u001B[38;5;124m'\u001B[39m\u001B[38;5;124mNo pin given\u001B[39m\u001B[38;5;124m'\u001B[39m)\n\u001B[1;32m    547\u001B[0m \u001B[38;5;66;03m# Check you can reserve *before* constructing the pin\u001B[39;00m\n\u001B[0;32m--> 548\u001B[0m \u001B[38;5;28;43mself\u001B[39;49m\u001B[38;5;241;43m.\u001B[39;49m\u001B[43mpin_factory\u001B[49m\u001B[38;5;241;43m.\u001B[39;49m\u001B[43mreserve_pins\u001B[49m\u001B[43m(\u001B[49m\u001B[38;5;28;43mself\u001B[39;49m\u001B[43m,\u001B[49m\u001B[43m \u001B[49m\u001B[43mpin\u001B[49m\u001B[43m)\u001B[49m\n\u001B[1;32m    549\u001B[0m pin \u001B[38;5;241m=\u001B[39m \u001B[38;5;28mself\u001B[39m\u001B[38;5;241m.\u001B[39mpin_factory\u001B[38;5;241m.\u001B[39mpin(pin)\n\u001B[1;32m    550\u001B[0m \u001B[38;5;28mself\u001B[39m\u001B[38;5;241m.\u001B[39m_pin \u001B[38;5;241m=\u001B[39m pin\n",
      "File \u001B[0;32m/usr/lib/python3/dist-packages/gpiozero/pins/__init__.py:88\u001B[0m, in \u001B[0;36mFactory.reserve_pins\u001B[0;34m(self, requester, *names)\u001B[0m\n\u001B[1;32m     86\u001B[0m     reserver \u001B[38;5;241m=\u001B[39m reserver_ref()\n\u001B[1;32m     87\u001B[0m     \u001B[38;5;28;01mif\u001B[39;00m reserver \u001B[38;5;129;01mis\u001B[39;00m \u001B[38;5;129;01mnot\u001B[39;00m \u001B[38;5;28;01mNone\u001B[39;00m \u001B[38;5;129;01mand\u001B[39;00m requester\u001B[38;5;241m.\u001B[39m_conflicts_with(reserver):\n\u001B[0;32m---> 88\u001B[0m         \u001B[38;5;28;01mraise\u001B[39;00m GPIOPinInUse(\n\u001B[1;32m     89\u001B[0m             \u001B[38;5;124mf\u001B[39m\u001B[38;5;124m'\u001B[39m\u001B[38;5;124mpin \u001B[39m\u001B[38;5;132;01m{\u001B[39;00mpin\u001B[38;5;241m.\u001B[39mname\u001B[38;5;132;01m}\u001B[39;00m\u001B[38;5;124m is already in use by \u001B[39m\u001B[38;5;132;01m{\u001B[39;00mreserver\u001B[38;5;132;01m!r}\u001B[39;00m\u001B[38;5;124m'\u001B[39m)\n\u001B[1;32m     90\u001B[0m \u001B[38;5;28mself\u001B[39m\u001B[38;5;241m.\u001B[39m_reservations[pin]\u001B[38;5;241m.\u001B[39mappend(ref(requester))\n",
      "\u001B[0;31mGPIOPinInUse\u001B[0m: pin GPIO17 is already in use by <gpiozero.OutputDevice object on pin GPIO17, active_high=True, is_active=False>"
     ]
    }
   ],
   "source": [
    "import gpiozero\n",
    "\n",
    "DT_PIN = 27\n",
    "SCK_PIN = 17\n",
    "i=0\n",
    "Count=0\n",
    "#dt = gpiozero.OutputDevice(DT_PIN)\n",
    "sck = gpiozero.OutputDevice(SCK_PIN)\n",
    "#dt.on()\n",
    "#dt.close()\n",
    "sck.off()\n",
    "dt = gpiozero.InputDevice(DT_PIN)\n",
    "while dt.value == 1:\n",
    "    i=0\n",
    "for i in range(24):\n",
    "    sck.on()\n",
    "    Count=Count<<1\n",
    "    sck.off()\n",
    "    #time.sleep(0.001)\n",
    "    if dt.value == 0: \n",
    "        Count=Count+1\n",
    "    sck.on()\n",
    "    Count=Count^0x800000\n",
    "    #time.sleep(0.001)\n",
    "    sck.off()\n"
   ],
   "metadata": {
    "collapsed": false,
    "ExecuteTime": {
     "end_time": "2024-02-22T04:22:09.068875337Z",
     "start_time": "2024-02-22T04:22:07.806711705Z"
    }
   },
   "id": "e43fe678588ae57a",
   "execution_count": 6
  },
  {
   "cell_type": "code",
   "outputs": [],
   "source": [
    "from gpiozero import Motor\n",
    "\n",
    "motor1 = Motor(14, 15, 18, 23)\n",
    "motor2 = Motor(12, 16, 20, 21)\n",
    "motor1.forward(0.25)\n",
    "motor2.forward(0.25)\n",
    "motor1.stop()\n",
    "motor2.stop()"
   ],
   "metadata": {
    "collapsed": false
   },
   "id": "7357facf8b0fbd47"
  },
  {
   "cell_type": "code",
   "outputs": [],
   "source": [],
   "metadata": {
    "collapsed": false
   },
   "id": "7c964396f7d82460"
  }
 ],
 "metadata": {
  "kernelspec": {
   "display_name": "Python 3",
   "language": "python",
   "name": "python3"
  },
  "language_info": {
   "codemirror_mode": {
    "name": "ipython",
    "version": 2
   },
   "file_extension": ".py",
   "mimetype": "text/x-python",
   "name": "python",
   "nbconvert_exporter": "python",
   "pygments_lexer": "ipython2",
   "version": "2.7.6"
  }
 },
 "nbformat": 4,
 "nbformat_minor": 5
}
