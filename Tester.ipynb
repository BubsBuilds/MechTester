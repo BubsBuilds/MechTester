{
 "cells": [
  {
   "cell_type": "code",
   "outputs": [],
   "source": [
    "import gpiozero\n",
    "\n",
    "DT_PIN = 27\n",
    "SCK_PIN = 17\n",
    "i=0\n",
    "Count=0\n",
    "dt = gpiozero.OutputDevice(DT_PIN)\n",
    "sck = gpiozero.OutputDevice(SCK_PIN)\n",
    "dt.on()\n",
    "sck.off()\n",
    "dt = InputDevice(DT_PIN)\n",
    "while dt.value == 1:\n",
    "    i=0\n",
    "for i in range(24):\n",
    "    sck.on()\n",
    "    Count=Count<<1\n",
    "    sck.off()\n",
    "    #time.sleep(0.001)\n",
    "    if dt.value == 0: \n",
    "        Count=Count+1\n",
    "    sck.on()\n",
    "    Count=Count^0x800000\n",
    "    #time.sleep(0.001)\n",
    "    sck.off()\n",
    "\n",
    "  time.sleep(0.5)"
   ],
   "metadata": {
    "collapsed": false
   },
   "id": "7679490b3c7e0c60"
  },
  {
   "cell_type": "code",
   "outputs": [],
   "source": [
    "from gpiozero import Motor\n",
    "\n",
    "motor1 = Motor(14, 15, 18, 23)\n",
    "motor2 = Motor(12, 16, 20, 21)\n",
    "motor1.forward(0.25)\n",
    "motor2.forward(0.25)\n",
    "motor1.stop()\n",
    "motor2.stop()"
   ],
   "metadata": {
    "collapsed": false
   },
   "id": "7357facf8b0fbd47"
  },
  {
   "cell_type": "code",
   "outputs": [],
   "source": [],
   "metadata": {
    "collapsed": false
   },
   "id": "7c964396f7d82460"
  }
 ],
 "metadata": {
  "kernelspec": {
   "display_name": "Python 3",
   "language": "python",
   "name": "python3"
  },
  "language_info": {
   "codemirror_mode": {
    "name": "ipython",
    "version": 2
   },
   "file_extension": ".py",
   "mimetype": "text/x-python",
   "name": "python",
   "nbconvert_exporter": "python",
   "pygments_lexer": "ipython2",
   "version": "2.7.6"
  }
 },
 "nbformat": 4,
 "nbformat_minor": 5
}
